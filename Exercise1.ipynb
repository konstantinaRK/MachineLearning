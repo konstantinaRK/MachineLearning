{
  "nbformat": 4,
  "nbformat_minor": 0,
  "metadata": {
    "colab": {
      "name": "Untitled0.ipynb",
      "provenance": [],
      "collapsed_sections": [],
      "toc_visible": true,
      "authorship_tag": "ABX9TyNpzz7gyDCblFcqJncqCbat",
      "include_colab_link": true
    },
    "kernelspec": {
      "name": "python3",
      "display_name": "Python 3"
    },
    "language_info": {
      "name": "python"
    }
  },
  "cells": [
    {
      "cell_type": "markdown",
      "metadata": {
        "id": "view-in-github",
        "colab_type": "text"
      },
      "source": [
        "<a href=\"https://colab.research.google.com/github/konstantinaRK/MachineLearning/blob/main/Exercise1.ipynb\" target=\"_parent\"><img src=\"https://colab.research.google.com/assets/colab-badge.svg\" alt=\"Open In Colab\"/></a>"
      ]
    },
    {
      "cell_type": "markdown",
      "metadata": {
        "id": "fRQxMCCc7Wc3"
      },
      "source": [
        "##Ερώτημα 1:"
      ]
    },
    {
      "cell_type": "markdown",
      "metadata": {
        "id": "ofvmRqyGbI6G"
      },
      "source": [
        "Για την παραγωγή διανυσμάτων και πινάκων χρησιμοποιήθηκε το υποσύνολο [-100,100] των ακεραίων, ώστε να είναι πιο εύκολες οι πράξεις."
      ]
    },
    {
      "cell_type": "code",
      "metadata": {
        "colab": {
          "base_uri": "https://localhost:8080/"
        },
        "id": "_ySOVwUV7aiA",
        "outputId": "470c3d35-41db-4011-bb3f-cc4dcbdf160b"
      },
      "source": [
        "import numpy as np\n",
        "import sys\n",
        "\n",
        "np.random.seed(139)\n",
        "\n",
        "X = np.random.randint(-100, 100, size=(3,4))\n",
        "Y = np.random.randint(-100, 100, size=(4,3))\n",
        "\n",
        "print(X)\n",
        "print(Y)"
      ],
      "execution_count": 1,
      "outputs": [
        {
          "output_type": "stream",
          "text": [
            "[[-96 -20  16 -88]\n",
            " [ 93 -31 -99  27]\n",
            " [ 48 -70  -5 -96]]\n",
            "[[ 63 -53 -76]\n",
            " [-49 -47 -82]\n",
            " [ 18  84 -82]\n",
            " [ 65 -36  63]]\n"
          ],
          "name": "stdout"
        }
      ]
    },
    {
      "cell_type": "code",
      "metadata": {
        "id": "FvddD1-B6djB",
        "colab": {
          "base_uri": "https://localhost:8080/"
        },
        "outputId": "6b23458f-ed0a-46d9-a22a-97a38cc039f7"
      },
      "source": [
        "a = np.random.randint(100, size=(4,1))\n",
        "b = np.random.randint(100, size=(4,1))\n",
        "\n",
        "print(a)\n",
        "print(b)"
      ],
      "execution_count": 2,
      "outputs": [
        {
          "output_type": "stream",
          "text": [
            "[[81]\n",
            " [25]\n",
            " [15]\n",
            " [20]]\n",
            "[[24]\n",
            " [30]\n",
            " [81]\n",
            " [26]]\n"
          ],
          "name": "stdout"
        }
      ]
    },
    {
      "cell_type": "markdown",
      "metadata": {
        "id": "xTUFxXIbYesI"
      },
      "source": [
        "###1.1\n",
        "\n",
        "$a^T b =\n",
        " \\begin{pmatrix}\n",
        "  81 & 25 & 15 & 20 \\\\\n",
        " \\end{pmatrix} *\n",
        " \\begin{pmatrix}\n",
        "  24 \\\\\n",
        "  30 \\\\\n",
        "  81 \\\\\n",
        "  26 \n",
        " \\end{pmatrix} = 81 * 24 + 25 * 30 + 15 * 81 + 20 * 26 = \\\\ = 1944 + 750 + 1215 + 520 = 4429$"
      ]
    },
    {
      "cell_type": "code",
      "metadata": {
        "colab": {
          "base_uri": "https://localhost:8080/"
        },
        "id": "w9bl83blJ4aD",
        "outputId": "732ced92-5aa1-4e44-9e64-2927f451c942"
      },
      "source": [
        "vector_vector = np.dot(np.transpose(a), b)[0][0]\n",
        "\n",
        "print(vector_vector)"
      ],
      "execution_count": 3,
      "outputs": [
        {
          "output_type": "stream",
          "text": [
            "4429\n"
          ],
          "name": "stdout"
        }
      ]
    },
    {
      "cell_type": "markdown",
      "metadata": {
        "id": "MZnYAuVpLVG-"
      },
      "source": [
        "###1.2\n",
        "\n",
        "$Xa =\n",
        " \\begin{pmatrix}\n",
        "  -96 & -20 & 16 & -88 \\\\\n",
        "  93 & -31 & -99 & 27 \\\\\n",
        "  48 & -70 & -5 & -96\n",
        " \\end{pmatrix} *\n",
        " \\begin{pmatrix}\n",
        "   81 \\\\\n",
        "   25 \\\\ \n",
        "   15 \\\\ \n",
        "   20\n",
        " \\end{pmatrix} = \n",
        " \\begin{pmatrix}\n",
        " -96 * 81 + (-20) * 25 + 16 * 15 + (-88)*20\\\\\n",
        " 93 * 81 + (-31) * 25 + (-99) * 15 + 27*20\\\\\n",
        " 48 * 81 + (-70) * 25 + (-5) * 15 + (-96)*20\n",
        " \\end{pmatrix} = \n",
        " \\begin{pmatrix}\n",
        " -7776 - 500 + 240 -1760 \\\\\n",
        "7533 - 775 - 1485 + 540 \\\\\n",
        " 3888 - 1750 - 75 - 1920\n",
        " \\end{pmatrix} =\n",
        " \\begin{pmatrix}\n",
        " -9796\\\\\n",
        " 5813\\\\\n",
        " 143\n",
        " \\end{pmatrix}$"
      ]
    },
    {
      "cell_type": "code",
      "metadata": {
        "colab": {
          "base_uri": "https://localhost:8080/"
        },
        "id": "8h09733WLlqu",
        "outputId": "5783bd34-fb0b-4c6c-f9b2-282b4212e102"
      },
      "source": [
        "matrix_vector = np.dot(X, a)\n",
        "\n",
        "print(matrix_vector)"
      ],
      "execution_count": 4,
      "outputs": [
        {
          "output_type": "stream",
          "text": [
            "[[-9796]\n",
            " [ 5813]\n",
            " [  143]]\n"
          ],
          "name": "stdout"
        }
      ]
    },
    {
      "cell_type": "markdown",
      "metadata": {
        "id": "Lc4qUx7SQbqt"
      },
      "source": [
        "###1.3\n",
        "\n",
        "$XY =\n",
        " \\begin{pmatrix}\n",
        "  -96 & -20 & 16 & -88 \\\\\n",
        "  93 & -31 & -99 & 27 \\\\\n",
        "  48 & -70 & -5 & -96\n",
        " \\end{pmatrix} *\n",
        " \\begin{pmatrix}\n",
        "  63 & -53 & -76 \\\\\n",
        "  -49 & -47 & -82 \\\\\n",
        "  18 & 84 & -82 \\\\\n",
        "  65 & -36 & 63\n",
        " \\end{pmatrix} = \n",
        " \\begin{pmatrix}\n",
        "-96 * 63 + (-20) * (-49) + 16 * 18 + (-88)*65 & \n",
        "-96 * (-53) + (-20) * (-47) + 16 * 84 + (-88)*(-36) &\n",
        "-96 * (-76) + (-20) * (-82) + 16 * (-82) + (-88)*63 \\\\\n",
        "93 * 63 + (-31) * (-49) + (-99) * 18 + 27*65 &\n",
        "93 * (-53) + (-31) * (-47) + (-99) * 84 + 27*(-36) &\n",
        "93 * (-76) + (-31) * (-82) + (-99)*(-82) + 27*63\\\\\n",
        "48 * 63 + (-70) * (-49) + (-5) * 18 + (-96)*65 &\n",
        "48 * (-53) + (-70) * (-47) + (-5) * 84 + (-96)*(-36) &\n",
        "48 * (-76) + (-70) * (-82) + (-5) * (-82) + (-96)*63\n",
        " \\end{pmatrix} = \n",
        " \\begin{pmatrix}\n",
        " -6048 + 980 + 288 - 5720 & 5088 + 940 + 1344 + 3168 & 7296 + 1640 - 1312 - 5444\\\\\n",
        "5859 + 1519 - 1782 + 1755 & -4929 + 1457 - 8316 - 972 & -7068 + 2542 + 8118 + 1701 \\\\\n",
        " 3024 + 3430 - 90 - 6240 & -2544 + 3290 - 420 + 3456 & -3648 + 5740 + 410 - 6048\n",
        " \\end{pmatrix} =\n",
        " \\begin{pmatrix}\n",
        " -10500 & 10540 & 2080\\\\\n",
        " 7351 & -12760 & 5293\\\\\n",
        " 124 & 3782 & -3546\n",
        " \\end{pmatrix}$ \\\\\n",
        "\n",
        " Χρησιμοποιήθηκαν 2 τρόποι στην python."
      ]
    },
    {
      "cell_type": "code",
      "metadata": {
        "colab": {
          "base_uri": "https://localhost:8080/"
        },
        "id": "ShmCUIR3Qw59",
        "outputId": "6ee3f2c9-385c-4762-8dea-6dc9427d0b90"
      },
      "source": [
        "matrix_matrix = np.dot(X, Y)\n",
        "matrix_matrix_2nd = X @ Y\n",
        "\n",
        "print(matrix_matrix)\n",
        "print(matrix_matrix_2nd)"
      ],
      "execution_count": 5,
      "outputs": [
        {
          "output_type": "stream",
          "text": [
            "[[-10500  10540   2080]\n",
            " [  7351 -12760   5293]\n",
            " [   124   3782  -3546]]\n",
            "[[-10500  10540   2080]\n",
            " [  7351 -12760   5293]\n",
            " [   124   3782  -3546]]\n"
          ],
          "name": "stdout"
        }
      ]
    },
    {
      "cell_type": "markdown",
      "metadata": {
        "id": "JdGC9PBZdWCG"
      },
      "source": [
        "### 1.4\n",
        "$||a|| = ||81 \\quad 25 \\quad 15 \\quad 20|| = \\sqrt{81^2 + 25^2 + 15^2 + 20^2} = \\sqrt{6561 + 625 + 225 + 400} = \\sqrt{7811} = 88.379861959611591147136982576041905569873013181489010216423800306$"
      ]
    },
    {
      "cell_type": "code",
      "metadata": {
        "colab": {
          "base_uri": "https://localhost:8080/"
        },
        "id": "ONS_zixpdXyi",
        "outputId": "1839798d-a404-407f-d6dc-7c4fc38bd717"
      },
      "source": [
        "eucl_norm = np.linalg.norm(a)\n",
        "\n",
        "print(eucl_norm)"
      ],
      "execution_count": 6,
      "outputs": [
        {
          "output_type": "stream",
          "text": [
            "88.37986195961159\n"
          ],
          "name": "stdout"
        }
      ]
    },
    {
      "cell_type": "markdown",
      "metadata": {
        "id": "u-IBzfahe09d"
      },
      "source": [
        "### 1.5\n",
        "$||X|| = ||\\begin{pmatrix}\n",
        "-96 & -20 & 16 & -88 \\\\\n",
        "93 & -31 & -99 & 27 \\\\\n",
        "48 & -70 & -5 & -96\n",
        " \\end{pmatrix}|| = \\sqrt{(-96)^2 + (-20)^2 + 16^2 + (-88)^2 + 93^2 + (-31)^2 + (-99)^2 + 27^2 + 48^2 + (-70)^2 + (-5)^2 + (-96)^2} = \\sqrt{9216 + 400 + 256 + 7744 + 8649 + 961 + 9801 + 729 + 2304 + 4900 + 25 + 9216} = \\sqrt{54201} = 232.81108221044804893718851987151261530527055585847322036061402806 $"
      ]
    },
    {
      "cell_type": "code",
      "metadata": {
        "colab": {
          "base_uri": "https://localhost:8080/"
        },
        "id": "-nHX3imue0bG",
        "outputId": "ad2b858a-9a03-479e-a01f-00de6c43da38"
      },
      "source": [
        "frobenius_norm = np.linalg.norm(X)\n",
        "\n",
        "print(frobenius_norm)"
      ],
      "execution_count": 7,
      "outputs": [
        {
          "output_type": "stream",
          "text": [
            "232.81108221044803\n"
          ],
          "name": "stdout"
        }
      ]
    },
    {
      "cell_type": "markdown",
      "metadata": {
        "id": "Oofl-vKphvfi"
      },
      "source": [
        "##Ερώτημα 2:\n"
      ]
    },
    {
      "cell_type": "markdown",
      "metadata": {
        "id": "B4yG5IheiMkY"
      },
      "source": [
        "###2.1"
      ]
    },
    {
      "cell_type": "markdown",
      "metadata": {
        "id": "M6vB21eNiOOE"
      },
      "source": [
        "###2.2"
      ]
    },
    {
      "cell_type": "markdown",
      "metadata": {
        "id": "1vzT96gciQLJ"
      },
      "source": [
        "##Ερώτημα 3:"
      ]
    },
    {
      "cell_type": "markdown",
      "metadata": {
        "id": "7ySrw5l1EeHb"
      },
      "source": [
        "Αρχικά χρειάζεται να βρούμε τις μερικές παραγώγους των δύο συναρτήσεών μας.\n",
        "\n",
        "Για την πρώτη συνάρτηση έχουμε: \\\\\n",
        "$\\frac{\\partial f}{\\partial x} = 2(x_1 - 2)$ \\\\\n",
        "$\\frac{\\partial f}{\\partial y} = 2(x_2 - 3)$ \\\\\n",
        "\n",
        "Για την δεύτερη συνάρτηση έχουμε: \\\\\n",
        "$\\frac{\\partial f}{\\partial x} = 40(x_1 + 3 - (x_2 -3)^2)$ \\\\\n",
        "$\\frac{\\partial f}{\\partial x} = 2 (-40(x_2-3)(x_1 + 3 - (x_2-3)^2) + x_2 - 4)$"
      ]
    },
    {
      "cell_type": "code",
      "metadata": {
        "colab": {
          "base_uri": "https://localhost:8080/",
          "height": 340
        },
        "id": "havogFVQwjfk",
        "outputId": "275de2d0-15dc-45f8-8f3f-ae5ac97780d5"
      },
      "source": [
        "def gradient_descend(f, iterations, starting_point, learning_rate):\n",
        "  \"\"\"\n",
        "  :param f: function gradient\n",
        "  :param iterations: number of iterations \n",
        "  :param starting_point: the starting point of the descend\n",
        "  :param learning_rate: the algorithm's learning_rate\n",
        "\n",
        "  :return: Returns the history of the values of the function after each iteration\n",
        "  \"\"\"\n",
        "\n",
        "  cur_value = starting_point[:]\n",
        "  hist = [starting_point]\n",
        "\n",
        "  for _ in range(iterations):\n",
        "    cur_value[0], cur_value[1] = [x-y for x,y in zip(cur_value, [learning_rate * x for x in f(cur_value)])]\n",
        "    hist.append(cur_value[:])\n",
        "  return hist\n",
        "\n",
        "def f1_grad(x):\n",
        "  \"\"\" \n",
        "    The gradients of function 1 \n",
        "  \"\"\"\n",
        "  return [2*(x[0] - 2), 2*(x[1] - 3)]\n",
        "\n",
        "def f2_grad(x):\n",
        "  \"\"\" \n",
        "    The gradients of function 2\n",
        "  \"\"\"\n",
        "  return [40*(x[0] + 3 - (x[1] -3)**2), 2*(-40*(x[1]-3)*(x[0] + 3 - (x[1]-3)**2) + x[1] - 4)]\n",
        "\n",
        "data1 = gradient_descend(f1_grad, 10, [0,0], 0.5)\n",
        "data2 = gradient_descend(f2_grad, 10, [0,0], 0.5)"
      ],
      "execution_count": 103,
      "outputs": [
        {
          "output_type": "error",
          "ename": "OverflowError",
          "evalue": "ignored",
          "traceback": [
            "\u001b[0;31m---------------------------------------------------------------------------\u001b[0m",
            "\u001b[0;31mOverflowError\u001b[0m                             Traceback (most recent call last)",
            "\u001b[0;32m<ipython-input-103-56bc0f0bcc73>\u001b[0m in \u001b[0;36m<module>\u001b[0;34m()\u001b[0m\n\u001b[1;32m     30\u001b[0m \u001b[0;34m\u001b[0m\u001b[0m\n\u001b[1;32m     31\u001b[0m \u001b[0mdata1\u001b[0m \u001b[0;34m=\u001b[0m \u001b[0mgradient_descend\u001b[0m\u001b[0;34m(\u001b[0m\u001b[0mf1_grad\u001b[0m\u001b[0;34m,\u001b[0m \u001b[0;36m10\u001b[0m\u001b[0;34m,\u001b[0m \u001b[0;34m[\u001b[0m\u001b[0;36m0\u001b[0m\u001b[0;34m,\u001b[0m\u001b[0;36m0\u001b[0m\u001b[0;34m]\u001b[0m\u001b[0;34m,\u001b[0m \u001b[0;36m0.5\u001b[0m\u001b[0;34m)\u001b[0m\u001b[0;34m\u001b[0m\u001b[0;34m\u001b[0m\u001b[0m\n\u001b[0;32m---> 32\u001b[0;31m \u001b[0mdata2\u001b[0m \u001b[0;34m=\u001b[0m \u001b[0mgradient_descend\u001b[0m\u001b[0;34m(\u001b[0m\u001b[0mf2_grad\u001b[0m\u001b[0;34m,\u001b[0m \u001b[0;36m10\u001b[0m\u001b[0;34m,\u001b[0m \u001b[0;34m[\u001b[0m\u001b[0;36m0\u001b[0m\u001b[0;34m,\u001b[0m\u001b[0;36m0\u001b[0m\u001b[0;34m]\u001b[0m\u001b[0;34m,\u001b[0m \u001b[0;36m0.5\u001b[0m\u001b[0;34m)\u001b[0m\u001b[0;34m\u001b[0m\u001b[0;34m\u001b[0m\u001b[0m\n\u001b[0m",
            "\u001b[0;32m<ipython-input-103-56bc0f0bcc73>\u001b[0m in \u001b[0;36mgradient_descend\u001b[0;34m(f, iterations, starting_point, learning_rate)\u001b[0m\n\u001b[1;32m     13\u001b[0m \u001b[0;34m\u001b[0m\u001b[0m\n\u001b[1;32m     14\u001b[0m   \u001b[0;32mfor\u001b[0m \u001b[0m_\u001b[0m \u001b[0;32min\u001b[0m \u001b[0mrange\u001b[0m\u001b[0;34m(\u001b[0m\u001b[0miterations\u001b[0m\u001b[0;34m)\u001b[0m\u001b[0;34m:\u001b[0m\u001b[0;34m\u001b[0m\u001b[0;34m\u001b[0m\u001b[0m\n\u001b[0;32m---> 15\u001b[0;31m     \u001b[0mcur_value\u001b[0m\u001b[0;34m[\u001b[0m\u001b[0;36m0\u001b[0m\u001b[0;34m]\u001b[0m\u001b[0;34m,\u001b[0m \u001b[0mcur_value\u001b[0m\u001b[0;34m[\u001b[0m\u001b[0;36m1\u001b[0m\u001b[0;34m]\u001b[0m \u001b[0;34m=\u001b[0m \u001b[0;34m[\u001b[0m\u001b[0mx\u001b[0m\u001b[0;34m-\u001b[0m\u001b[0my\u001b[0m \u001b[0;32mfor\u001b[0m \u001b[0mx\u001b[0m\u001b[0;34m,\u001b[0m\u001b[0my\u001b[0m \u001b[0;32min\u001b[0m \u001b[0mzip\u001b[0m\u001b[0;34m(\u001b[0m\u001b[0mcur_value\u001b[0m\u001b[0;34m,\u001b[0m \u001b[0;34m[\u001b[0m\u001b[0mlearning_rate\u001b[0m \u001b[0;34m*\u001b[0m \u001b[0mx\u001b[0m \u001b[0;32mfor\u001b[0m \u001b[0mx\u001b[0m \u001b[0;32min\u001b[0m \u001b[0mf\u001b[0m\u001b[0;34m(\u001b[0m\u001b[0mcur_value\u001b[0m\u001b[0;34m)\u001b[0m\u001b[0;34m]\u001b[0m\u001b[0;34m)\u001b[0m\u001b[0;34m]\u001b[0m\u001b[0;34m\u001b[0m\u001b[0;34m\u001b[0m\u001b[0m\n\u001b[0m\u001b[1;32m     16\u001b[0m     \u001b[0mhist\u001b[0m\u001b[0;34m.\u001b[0m\u001b[0mappend\u001b[0m\u001b[0;34m(\u001b[0m\u001b[0mcur_value\u001b[0m\u001b[0;34m[\u001b[0m\u001b[0;34m:\u001b[0m\u001b[0;34m]\u001b[0m\u001b[0;34m)\u001b[0m\u001b[0;34m\u001b[0m\u001b[0;34m\u001b[0m\u001b[0m\n\u001b[1;32m     17\u001b[0m   \u001b[0;32mreturn\u001b[0m \u001b[0mhist\u001b[0m\u001b[0;34m\u001b[0m\u001b[0;34m\u001b[0m\u001b[0m\n",
            "\u001b[0;32m<ipython-input-103-56bc0f0bcc73>\u001b[0m in \u001b[0;36mf2_grad\u001b[0;34m(x)\u001b[0m\n\u001b[1;32m     27\u001b[0m     \u001b[0mThe\u001b[0m \u001b[0mgradients\u001b[0m \u001b[0mof\u001b[0m \u001b[0mfunction\u001b[0m \u001b[0;36m2\u001b[0m\u001b[0;34m\u001b[0m\u001b[0;34m\u001b[0m\u001b[0m\n\u001b[1;32m     28\u001b[0m   \"\"\"\n\u001b[0;32m---> 29\u001b[0;31m   \u001b[0;32mreturn\u001b[0m \u001b[0;34m[\u001b[0m\u001b[0;36m40\u001b[0m\u001b[0;34m*\u001b[0m\u001b[0;34m(\u001b[0m\u001b[0mx\u001b[0m\u001b[0;34m[\u001b[0m\u001b[0;36m0\u001b[0m\u001b[0;34m]\u001b[0m \u001b[0;34m+\u001b[0m \u001b[0;36m3\u001b[0m \u001b[0;34m-\u001b[0m \u001b[0;34m(\u001b[0m\u001b[0mx\u001b[0m\u001b[0;34m[\u001b[0m\u001b[0;36m1\u001b[0m\u001b[0;34m]\u001b[0m \u001b[0;34m-\u001b[0m\u001b[0;36m3\u001b[0m\u001b[0;34m)\u001b[0m\u001b[0;34m**\u001b[0m\u001b[0;36m2\u001b[0m\u001b[0;34m)\u001b[0m\u001b[0;34m,\u001b[0m \u001b[0;36m2\u001b[0m\u001b[0;34m*\u001b[0m\u001b[0;34m(\u001b[0m\u001b[0;34m-\u001b[0m\u001b[0;36m40\u001b[0m\u001b[0;34m*\u001b[0m\u001b[0;34m(\u001b[0m\u001b[0mx\u001b[0m\u001b[0;34m[\u001b[0m\u001b[0;36m1\u001b[0m\u001b[0;34m]\u001b[0m\u001b[0;34m-\u001b[0m\u001b[0;36m3\u001b[0m\u001b[0;34m)\u001b[0m\u001b[0;34m*\u001b[0m\u001b[0;34m(\u001b[0m\u001b[0mx\u001b[0m\u001b[0;34m[\u001b[0m\u001b[0;36m0\u001b[0m\u001b[0;34m]\u001b[0m \u001b[0;34m+\u001b[0m \u001b[0;36m3\u001b[0m \u001b[0;34m-\u001b[0m \u001b[0;34m(\u001b[0m\u001b[0mx\u001b[0m\u001b[0;34m[\u001b[0m\u001b[0;36m1\u001b[0m\u001b[0;34m]\u001b[0m\u001b[0;34m-\u001b[0m\u001b[0;36m3\u001b[0m\u001b[0;34m)\u001b[0m\u001b[0;34m**\u001b[0m\u001b[0;36m2\u001b[0m\u001b[0;34m)\u001b[0m \u001b[0;34m+\u001b[0m \u001b[0mx\u001b[0m\u001b[0;34m[\u001b[0m\u001b[0;36m1\u001b[0m\u001b[0;34m]\u001b[0m \u001b[0;34m-\u001b[0m \u001b[0;36m4\u001b[0m\u001b[0;34m)\u001b[0m\u001b[0;34m]\u001b[0m\u001b[0;34m\u001b[0m\u001b[0;34m\u001b[0m\u001b[0m\n\u001b[0m\u001b[1;32m     30\u001b[0m \u001b[0;34m\u001b[0m\u001b[0m\n\u001b[1;32m     31\u001b[0m \u001b[0mdata1\u001b[0m \u001b[0;34m=\u001b[0m \u001b[0mgradient_descend\u001b[0m\u001b[0;34m(\u001b[0m\u001b[0mf1_grad\u001b[0m\u001b[0;34m,\u001b[0m \u001b[0;36m10\u001b[0m\u001b[0;34m,\u001b[0m \u001b[0;34m[\u001b[0m\u001b[0;36m0\u001b[0m\u001b[0;34m,\u001b[0m\u001b[0;36m0\u001b[0m\u001b[0;34m]\u001b[0m\u001b[0;34m,\u001b[0m \u001b[0;36m0.5\u001b[0m\u001b[0;34m)\u001b[0m\u001b[0;34m\u001b[0m\u001b[0;34m\u001b[0m\u001b[0m\n",
            "\u001b[0;31mOverflowError\u001b[0m: (34, 'Numerical result out of range')"
          ]
        }
      ]
    },
    {
      "cell_type": "code",
      "metadata": {
        "colab": {
          "base_uri": "https://localhost:8080/",
          "height": 711
        },
        "id": "Kkh0Obz5S89S",
        "outputId": "e1c018d7-55d7-4b32-f6de-8cec63ebee90"
      },
      "source": [
        "import matplotlib.pyplot as plt\n",
        "\n",
        "def f1(x):\n",
        "  \"\"\" \n",
        "    Function 1 \n",
        "  \"\"\"\n",
        "  return (x[0]-2)**2 + (x[1]-3)**2\n",
        "\n",
        "def f2(x):\n",
        "  \"\"\" \n",
        "    Function 2\n",
        "  \"\"\"\n",
        "  return (1-(x[1]-3))**2 + 20*((x[0]+3)-(x[1]-3)**2)**2\n",
        "\n",
        "fig, ax = plt.subplots(2, 1,figsize=(6,6))\n",
        "ax[0].set_ylabel(\"Function1 value\")\n",
        "ax[0].set_xlabel(\"Iteration\")\n",
        "ax[0].set(xlim=(0, 10))\n",
        "\n",
        "ax[1].set_ylabel(\"Function2 value\")\n",
        "ax[1].set_xlabel(\"Iteration\")\n",
        "ax[1].set(xlim=(0, 10))\n",
        "\n",
        "ax[0].plot([f1(x) for x in data1], range(-1,10))\n",
        "ax[1].plot([f2(x) for x in data2], range(-1,10))"
      ],
      "execution_count": 99,
      "outputs": [
        {
          "output_type": "error",
          "ename": "OverflowError",
          "evalue": "ignored",
          "traceback": [
            "\u001b[0;31m---------------------------------------------------------------------------\u001b[0m",
            "\u001b[0;31mOverflowError\u001b[0m                             Traceback (most recent call last)",
            "\u001b[0;32m<ipython-input-99-ac2bb0c2e835>\u001b[0m in \u001b[0;36m<module>\u001b[0;34m()\u001b[0m\n\u001b[1;32m     23\u001b[0m \u001b[0;34m\u001b[0m\u001b[0m\n\u001b[1;32m     24\u001b[0m \u001b[0max\u001b[0m\u001b[0;34m[\u001b[0m\u001b[0;36m0\u001b[0m\u001b[0;34m]\u001b[0m\u001b[0;34m.\u001b[0m\u001b[0mplot\u001b[0m\u001b[0;34m(\u001b[0m\u001b[0;34m[\u001b[0m\u001b[0mf1\u001b[0m\u001b[0;34m(\u001b[0m\u001b[0mx\u001b[0m\u001b[0;34m)\u001b[0m \u001b[0;32mfor\u001b[0m \u001b[0mx\u001b[0m \u001b[0;32min\u001b[0m \u001b[0mdata1\u001b[0m\u001b[0;34m]\u001b[0m\u001b[0;34m,\u001b[0m \u001b[0mrange\u001b[0m\u001b[0;34m(\u001b[0m\u001b[0;34m-\u001b[0m\u001b[0;36m1\u001b[0m\u001b[0;34m,\u001b[0m\u001b[0;36m10\u001b[0m\u001b[0;34m)\u001b[0m\u001b[0;34m)\u001b[0m\u001b[0;34m\u001b[0m\u001b[0;34m\u001b[0m\u001b[0m\n\u001b[0;32m---> 25\u001b[0;31m \u001b[0max\u001b[0m\u001b[0;34m[\u001b[0m\u001b[0;36m1\u001b[0m\u001b[0;34m]\u001b[0m\u001b[0;34m.\u001b[0m\u001b[0mplot\u001b[0m\u001b[0;34m(\u001b[0m\u001b[0;34m[\u001b[0m\u001b[0mf2\u001b[0m\u001b[0;34m(\u001b[0m\u001b[0mx\u001b[0m\u001b[0;34m)\u001b[0m \u001b[0;32mfor\u001b[0m \u001b[0mx\u001b[0m \u001b[0;32min\u001b[0m \u001b[0mdata2\u001b[0m\u001b[0;34m]\u001b[0m\u001b[0;34m,\u001b[0m \u001b[0mrange\u001b[0m\u001b[0;34m(\u001b[0m\u001b[0;34m-\u001b[0m\u001b[0;36m1\u001b[0m\u001b[0;34m,\u001b[0m\u001b[0;36m10\u001b[0m\u001b[0;34m)\u001b[0m\u001b[0;34m)\u001b[0m\u001b[0;34m\u001b[0m\u001b[0;34m\u001b[0m\u001b[0m\n\u001b[0m",
            "\u001b[0;32m<ipython-input-99-ac2bb0c2e835>\u001b[0m in \u001b[0;36m<listcomp>\u001b[0;34m(.0)\u001b[0m\n\u001b[1;32m     23\u001b[0m \u001b[0;34m\u001b[0m\u001b[0m\n\u001b[1;32m     24\u001b[0m \u001b[0max\u001b[0m\u001b[0;34m[\u001b[0m\u001b[0;36m0\u001b[0m\u001b[0;34m]\u001b[0m\u001b[0;34m.\u001b[0m\u001b[0mplot\u001b[0m\u001b[0;34m(\u001b[0m\u001b[0;34m[\u001b[0m\u001b[0mf1\u001b[0m\u001b[0;34m(\u001b[0m\u001b[0mx\u001b[0m\u001b[0;34m)\u001b[0m \u001b[0;32mfor\u001b[0m \u001b[0mx\u001b[0m \u001b[0;32min\u001b[0m \u001b[0mdata1\u001b[0m\u001b[0;34m]\u001b[0m\u001b[0;34m,\u001b[0m \u001b[0mrange\u001b[0m\u001b[0;34m(\u001b[0m\u001b[0;34m-\u001b[0m\u001b[0;36m1\u001b[0m\u001b[0;34m,\u001b[0m\u001b[0;36m10\u001b[0m\u001b[0;34m)\u001b[0m\u001b[0;34m)\u001b[0m\u001b[0;34m\u001b[0m\u001b[0;34m\u001b[0m\u001b[0m\n\u001b[0;32m---> 25\u001b[0;31m \u001b[0max\u001b[0m\u001b[0;34m[\u001b[0m\u001b[0;36m1\u001b[0m\u001b[0;34m]\u001b[0m\u001b[0;34m.\u001b[0m\u001b[0mplot\u001b[0m\u001b[0;34m(\u001b[0m\u001b[0;34m[\u001b[0m\u001b[0mf2\u001b[0m\u001b[0;34m(\u001b[0m\u001b[0mx\u001b[0m\u001b[0;34m)\u001b[0m \u001b[0;32mfor\u001b[0m \u001b[0mx\u001b[0m \u001b[0;32min\u001b[0m \u001b[0mdata2\u001b[0m\u001b[0;34m]\u001b[0m\u001b[0;34m,\u001b[0m \u001b[0mrange\u001b[0m\u001b[0;34m(\u001b[0m\u001b[0;34m-\u001b[0m\u001b[0;36m1\u001b[0m\u001b[0;34m,\u001b[0m\u001b[0;36m10\u001b[0m\u001b[0;34m)\u001b[0m\u001b[0;34m)\u001b[0m\u001b[0;34m\u001b[0m\u001b[0;34m\u001b[0m\u001b[0m\n\u001b[0m",
            "\u001b[0;32m<ipython-input-99-ac2bb0c2e835>\u001b[0m in \u001b[0;36mf2\u001b[0;34m(x)\u001b[0m\n\u001b[1;32m     11\u001b[0m     \u001b[0mFunction\u001b[0m \u001b[0;36m2\u001b[0m\u001b[0;34m\u001b[0m\u001b[0;34m\u001b[0m\u001b[0m\n\u001b[1;32m     12\u001b[0m   \"\"\"\n\u001b[0;32m---> 13\u001b[0;31m   \u001b[0;32mreturn\u001b[0m \u001b[0;34m(\u001b[0m\u001b[0;36m1\u001b[0m\u001b[0;34m-\u001b[0m\u001b[0;34m(\u001b[0m\u001b[0mx\u001b[0m\u001b[0;34m[\u001b[0m\u001b[0;36m1\u001b[0m\u001b[0;34m]\u001b[0m\u001b[0;34m-\u001b[0m\u001b[0;36m3\u001b[0m\u001b[0;34m)\u001b[0m\u001b[0;34m)\u001b[0m\u001b[0;34m**\u001b[0m\u001b[0;36m2\u001b[0m \u001b[0;34m+\u001b[0m \u001b[0;36m20\u001b[0m\u001b[0;34m*\u001b[0m\u001b[0;34m(\u001b[0m\u001b[0;34m(\u001b[0m\u001b[0mx\u001b[0m\u001b[0;34m[\u001b[0m\u001b[0;36m0\u001b[0m\u001b[0;34m]\u001b[0m\u001b[0;34m+\u001b[0m\u001b[0;36m3\u001b[0m\u001b[0;34m)\u001b[0m\u001b[0;34m-\u001b[0m\u001b[0;34m(\u001b[0m\u001b[0mx\u001b[0m\u001b[0;34m[\u001b[0m\u001b[0;36m1\u001b[0m\u001b[0;34m]\u001b[0m\u001b[0;34m-\u001b[0m\u001b[0;36m3\u001b[0m\u001b[0;34m)\u001b[0m\u001b[0;34m**\u001b[0m\u001b[0;36m2\u001b[0m\u001b[0;34m)\u001b[0m\u001b[0;34m**\u001b[0m\u001b[0;36m2\u001b[0m\u001b[0;34m\u001b[0m\u001b[0;34m\u001b[0m\u001b[0m\n\u001b[0m\u001b[1;32m     14\u001b[0m \u001b[0;34m\u001b[0m\u001b[0m\n\u001b[1;32m     15\u001b[0m \u001b[0mfig\u001b[0m\u001b[0;34m,\u001b[0m \u001b[0max\u001b[0m \u001b[0;34m=\u001b[0m \u001b[0mplt\u001b[0m\u001b[0;34m.\u001b[0m\u001b[0msubplots\u001b[0m\u001b[0;34m(\u001b[0m\u001b[0;36m2\u001b[0m\u001b[0;34m,\u001b[0m \u001b[0;36m1\u001b[0m\u001b[0;34m,\u001b[0m\u001b[0mfigsize\u001b[0m\u001b[0;34m=\u001b[0m\u001b[0;34m(\u001b[0m\u001b[0;36m6\u001b[0m\u001b[0;34m,\u001b[0m\u001b[0;36m6\u001b[0m\u001b[0;34m)\u001b[0m\u001b[0;34m)\u001b[0m\u001b[0;34m\u001b[0m\u001b[0;34m\u001b[0m\u001b[0m\n",
            "\u001b[0;31mOverflowError\u001b[0m: (34, 'Numerical result out of range')"
          ]
        },
        {
          "output_type": "display_data",
          "data": {
            "image/png": "[encoded data removed]",
            "text/plain": [
              "<Figure size 432x432 with 2 Axes>"
            ]
          },
          "metadata": {
            "tags": [],
            "needs_background": "light"
          }
        }
      ]
    },
    {
      "cell_type": "markdown",
      "metadata": {
        "id": "4-UV_4naZASd"
      },
      "source": [
        "Για αριθμό επαναλήψεων 10 και learning rate 0.5, παρατηρούμε ότι η πρώτη συνάρτηση εντοπίζει αμέσως την βέλτιστη τιμή της και παραμένει σε αυτή, ενώ η δεύτερη συνάρτηση, λόγω τύπου, δημιουργεί overflow στις τιμές."
      ]
    },
    {
      "cell_type": "code",
      "metadata": {
        "id": "g9kKYcTKZYd4"
      },
      "source": [
        "data = []\n",
        "data.append(gradient_descend(f2_grad, 10, [0,0], 0.00000001))\n",
        "data.append(gradient_descend(f2_grad, 10, [0,0], 0.00001))\n",
        "data.append(gradient_descend(f2_grad, 10, [0,0], 1))\n",
        "data.append(gradient_descend(f2_grad, 100, [0,0], 0.00000001))\n",
        "data.append(gradient_descend(f2_grad, 100, [0,0], 0.00001))\n",
        "data.append(gradient_descend(f2_grad, 100, [0,0], 1))\n",
        "data.append(gradient_descend(f2_grad, 1000, [0,0], 0.00000001))\n",
        "data.append(gradient_descend(f2_grad, 1000, [0,0], 0.00001))\n",
        "data.append(gradient_descend(f2_grad, 1000, [0,0], 1))\n",
        "\n",
        "fig, ax = plt.subplots(3, 3,figsize=(13,13))\n",
        "\n",
        "for i in range(3):\n",
        "  for j in range(3):\n",
        "    ax[i][j].set_ylabel(\"Function value\")\n",
        "    ax[i][j].set_xlabel(\"Iteration\")\n",
        "    ax[i][j].set(xlim=(0, 10))\n",
        "    ax[i][j].plot([f2(x) for x in data[i+j]], range(-1,10))\n",
        "\n",
        "\n"
      ],
      "execution_count": null,
      "outputs": []
    }
  ]
}